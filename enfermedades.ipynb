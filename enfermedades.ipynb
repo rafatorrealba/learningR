{
 "cells": [
  {
   "cell_type": "code",
   "execution_count": 27,
   "metadata": {},
   "outputs": [],
   "source": [
    "library(tidyverse)\n",
    "library(dslabs)\n",
    "library(dplyr)"
   ]
  },
  {
   "cell_type": "code",
   "execution_count": 49,
   "metadata": {},
   "outputs": [
    {
     "data": {
      "text/html": [
       "<table>\n",
       "<caption>A spec_tbl_df: 45 × 6</caption>\n",
       "<thead>\n",
       "\t<tr><th scope=col>Codigo</th><th scope=col>Causa</th><th scope=col>AñosID</th><th scope=col>Años</th><th scope=col>Cantidad</th><th scope=col>porHabitantes100</th></tr>\n",
       "\t<tr><th scope=col>&lt;chr&gt;</th><th scope=col>&lt;chr&gt;</th><th scope=col>&lt;dbl&gt;</th><th scope=col>&lt;dbl&gt;</th><th scope=col>&lt;dbl&gt;</th><th scope=col>&lt;dbl&gt;</th></tr>\n",
       "</thead>\n",
       "<tbody>\n",
       "\t<tr><td>B20-B24</td><td>SIDA   </td><td>2010</td><td>2010</td><td>  435</td><td>0.02414000</td></tr>\n",
       "\t<tr><td>B20-B24</td><td>SIDA   </td><td>2011</td><td>2011</td><td>  472</td><td>0.02830000</td></tr>\n",
       "\t<tr><td>B20-B24</td><td>SIDA   </td><td>2012</td><td>2012</td><td>  456</td><td>0.02661000</td></tr>\n",
       "\t<tr><td>B20-B24</td><td>SIDA   </td><td>2013</td><td>2013</td><td>  523</td><td>0.02719667</td></tr>\n",
       "\t<tr><td>B20-B24</td><td>SIDA   </td><td>2014</td><td>2014</td><td>  506</td><td>0.02952333</td></tr>\n",
       "\t<tr><td>C00-D48</td><td>Tumores</td><td>2010</td><td>2010</td><td>24088</td><td>1.39447333</td></tr>\n",
       "\t<tr><td>C00-D48</td><td>Tumores</td><td>2011</td><td>2011</td><td>24582</td><td>1.43264001</td></tr>\n",
       "\t<tr><td>C00-D48</td><td>Tumores</td><td>2012</td><td>2012</td><td>25421</td><td>1.46909666</td></tr>\n",
       "\t<tr><td>C00-D48</td><td>Tumores</td><td>2013</td><td>2013</td><td>25687</td><td>1.44042333</td></tr>\n",
       "\t<tr><td>C00-D48</td><td>Tumores</td><td>2014</td><td>2014</td><td>26042</td><td>1.46881334</td></tr>\n",
       "\t<tr><td>E00-E90</td><td>EEDYM  </td><td>2010</td><td>2010</td><td> 4821</td><td>0.27405000</td></tr>\n",
       "\t<tr><td>E00-E90</td><td>EEDYM  </td><td>2011</td><td>2011</td><td> 4640</td><td>0.25414333</td></tr>\n",
       "\t<tr><td>E00-E90</td><td>EEDYM  </td><td>2012</td><td>2012</td><td> 4930</td><td>0.27460667</td></tr>\n",
       "\t<tr><td>E00-E90</td><td>EEDYM  </td><td>2013</td><td>2013</td><td> 4876</td><td>0.25378000</td></tr>\n",
       "\t<tr><td>E00-E90</td><td>EEDYM  </td><td>2014</td><td>2014</td><td> 5188</td><td>0.27171000</td></tr>\n",
       "\t<tr><td>I00-I99</td><td>ESC    </td><td>2010</td><td>2010</td><td>27158</td><td>1.53352666</td></tr>\n",
       "\t<tr><td>I00-I99</td><td>ESC    </td><td>2011</td><td>2011</td><td>25744</td><td>1.45189000</td></tr>\n",
       "\t<tr><td>I00-I99</td><td>ESC    </td><td>2012</td><td>2012</td><td>27179</td><td>1.55333334</td></tr>\n",
       "\t<tr><td>I00-I99</td><td>ESC    </td><td>2013</td><td>2013</td><td>27660</td><td>1.50591334</td></tr>\n",
       "\t<tr><td>I00-I99</td><td>ESC    </td><td>2014</td><td>2014</td><td>28060</td><td>1.49855332</td></tr>\n",
       "\t<tr><td>J00-J99</td><td>ESR    </td><td>2010</td><td>2010</td><td> 9993</td><td>0.60348333</td></tr>\n",
       "\t<tr><td>J00-J99</td><td>ESR    </td><td>2011</td><td>2011</td><td> 9104</td><td>0.52756000</td></tr>\n",
       "\t<tr><td>J00-J99</td><td>ESR    </td><td>2012</td><td>2012</td><td>10118</td><td>0.57727333</td></tr>\n",
       "\t<tr><td>J00-J99</td><td>ESR    </td><td>2013</td><td>2013</td><td>10269</td><td>0.56147333</td></tr>\n",
       "\t<tr><td>J00-J99</td><td>ESR    </td><td>2014</td><td>2014</td><td>10447</td><td>0.55020000</td></tr>\n",
       "\t<tr><td>K00-K93</td><td>ESD    </td><td>2010</td><td>2010</td><td> 7051</td><td>0.41266334</td></tr>\n",
       "\t<tr><td>K00-K93</td><td>ESD    </td><td>2011</td><td>2011</td><td> 6964</td><td>0.40333333</td></tr>\n",
       "\t<tr><td>K00-K93</td><td>ESD    </td><td>2012</td><td>2012</td><td> 7140</td><td>0.39853333</td></tr>\n",
       "\t<tr><td>K00-K93</td><td>ESD    </td><td>2013</td><td>2013</td><td> 7349</td><td>0.42387666</td></tr>\n",
       "\t<tr><td>K00-K93</td><td>ESD    </td><td>2014</td><td>2014</td><td> 7469</td><td>0.41435333</td></tr>\n",
       "\t<tr><td>V01-V99</td><td>ADT    </td><td>2010</td><td>2010</td><td> 2097</td><td>0.13655000</td></tr>\n",
       "\t<tr><td>V01-V99</td><td>ADT    </td><td>2011</td><td>2011</td><td> 2113</td><td>0.15626000</td></tr>\n",
       "\t<tr><td>V01-V99</td><td>ADT    </td><td>2012</td><td>2012</td><td> 2050</td><td>0.14467000</td></tr>\n",
       "\t<tr><td>V01-V99</td><td>ADT    </td><td>2013</td><td>2013</td><td> 2121</td><td>0.14153000</td></tr>\n",
       "\t<tr><td>V01-V99</td><td>ADT    </td><td>2014</td><td>2014</td><td> 1982</td><td>0.12311000</td></tr>\n",
       "\t<tr><td>V01-Y98</td><td>CEM    </td><td>2010</td><td>2010</td><td> 8385</td><td>0.53348000</td></tr>\n",
       "\t<tr><td>V01-Y98</td><td>CEM    </td><td>2011</td><td>2011</td><td> 8027</td><td>0.53223333</td></tr>\n",
       "\t<tr><td>V01-Y98</td><td>CEM    </td><td>2012</td><td>2012</td><td> 7561</td><td>0.49222667</td></tr>\n",
       "\t<tr><td>V01-Y98</td><td>CEM    </td><td>2013</td><td>2013</td><td> 7617</td><td>0.47934000</td></tr>\n",
       "\t<tr><td>V01-Y98</td><td>CEM    </td><td>2014</td><td>2014</td><td> 7730</td><td>0.46785000</td></tr>\n",
       "\t<tr><td>X60-X84</td><td>LAI    </td><td>2010</td><td>2010</td><td> 1986</td><td>0.12864333</td></tr>\n",
       "\t<tr><td>X60-X84</td><td>LAI    </td><td>2011</td><td>2011</td><td> 2027</td><td>0.12407333</td></tr>\n",
       "\t<tr><td>X60-X84</td><td>LAI    </td><td>2012</td><td>2012</td><td> 1841</td><td>0.11158667</td></tr>\n",
       "\t<tr><td>X60-X84</td><td>LAI    </td><td>2013</td><td>2013</td><td> 1738</td><td>0.10222000</td></tr>\n",
       "\t<tr><td>X60-X84</td><td>LAI    </td><td>2014</td><td>2014</td><td> 1789</td><td>0.10371667</td></tr>\n",
       "</tbody>\n",
       "</table>\n"
      ],
      "text/latex": [
       "A spec\\_tbl\\_df: 45 × 6\n",
       "\\begin{tabular}{llllll}\n",
       " Codigo & Causa & AñosID & Años & Cantidad & porHabitantes100\\\\\n",
       " <chr> & <chr> & <dbl> & <dbl> & <dbl> & <dbl>\\\\\n",
       "\\hline\n",
       "\t B20-B24 & SIDA    & 2010 & 2010 &   435 & 0.02414000\\\\\n",
       "\t B20-B24 & SIDA    & 2011 & 2011 &   472 & 0.02830000\\\\\n",
       "\t B20-B24 & SIDA    & 2012 & 2012 &   456 & 0.02661000\\\\\n",
       "\t B20-B24 & SIDA    & 2013 & 2013 &   523 & 0.02719667\\\\\n",
       "\t B20-B24 & SIDA    & 2014 & 2014 &   506 & 0.02952333\\\\\n",
       "\t C00-D48 & Tumores & 2010 & 2010 & 24088 & 1.39447333\\\\\n",
       "\t C00-D48 & Tumores & 2011 & 2011 & 24582 & 1.43264001\\\\\n",
       "\t C00-D48 & Tumores & 2012 & 2012 & 25421 & 1.46909666\\\\\n",
       "\t C00-D48 & Tumores & 2013 & 2013 & 25687 & 1.44042333\\\\\n",
       "\t C00-D48 & Tumores & 2014 & 2014 & 26042 & 1.46881334\\\\\n",
       "\t E00-E90 & EEDYM   & 2010 & 2010 &  4821 & 0.27405000\\\\\n",
       "\t E00-E90 & EEDYM   & 2011 & 2011 &  4640 & 0.25414333\\\\\n",
       "\t E00-E90 & EEDYM   & 2012 & 2012 &  4930 & 0.27460667\\\\\n",
       "\t E00-E90 & EEDYM   & 2013 & 2013 &  4876 & 0.25378000\\\\\n",
       "\t E00-E90 & EEDYM   & 2014 & 2014 &  5188 & 0.27171000\\\\\n",
       "\t I00-I99 & ESC     & 2010 & 2010 & 27158 & 1.53352666\\\\\n",
       "\t I00-I99 & ESC     & 2011 & 2011 & 25744 & 1.45189000\\\\\n",
       "\t I00-I99 & ESC     & 2012 & 2012 & 27179 & 1.55333334\\\\\n",
       "\t I00-I99 & ESC     & 2013 & 2013 & 27660 & 1.50591334\\\\\n",
       "\t I00-I99 & ESC     & 2014 & 2014 & 28060 & 1.49855332\\\\\n",
       "\t J00-J99 & ESR     & 2010 & 2010 &  9993 & 0.60348333\\\\\n",
       "\t J00-J99 & ESR     & 2011 & 2011 &  9104 & 0.52756000\\\\\n",
       "\t J00-J99 & ESR     & 2012 & 2012 & 10118 & 0.57727333\\\\\n",
       "\t J00-J99 & ESR     & 2013 & 2013 & 10269 & 0.56147333\\\\\n",
       "\t J00-J99 & ESR     & 2014 & 2014 & 10447 & 0.55020000\\\\\n",
       "\t K00-K93 & ESD     & 2010 & 2010 &  7051 & 0.41266334\\\\\n",
       "\t K00-K93 & ESD     & 2011 & 2011 &  6964 & 0.40333333\\\\\n",
       "\t K00-K93 & ESD     & 2012 & 2012 &  7140 & 0.39853333\\\\\n",
       "\t K00-K93 & ESD     & 2013 & 2013 &  7349 & 0.42387666\\\\\n",
       "\t K00-K93 & ESD     & 2014 & 2014 &  7469 & 0.41435333\\\\\n",
       "\t V01-V99 & ADT     & 2010 & 2010 &  2097 & 0.13655000\\\\\n",
       "\t V01-V99 & ADT     & 2011 & 2011 &  2113 & 0.15626000\\\\\n",
       "\t V01-V99 & ADT     & 2012 & 2012 &  2050 & 0.14467000\\\\\n",
       "\t V01-V99 & ADT     & 2013 & 2013 &  2121 & 0.14153000\\\\\n",
       "\t V01-V99 & ADT     & 2014 & 2014 &  1982 & 0.12311000\\\\\n",
       "\t V01-Y98 & CEM     & 2010 & 2010 &  8385 & 0.53348000\\\\\n",
       "\t V01-Y98 & CEM     & 2011 & 2011 &  8027 & 0.53223333\\\\\n",
       "\t V01-Y98 & CEM     & 2012 & 2012 &  7561 & 0.49222667\\\\\n",
       "\t V01-Y98 & CEM     & 2013 & 2013 &  7617 & 0.47934000\\\\\n",
       "\t V01-Y98 & CEM     & 2014 & 2014 &  7730 & 0.46785000\\\\\n",
       "\t X60-X84 & LAI     & 2010 & 2010 &  1986 & 0.12864333\\\\\n",
       "\t X60-X84 & LAI     & 2011 & 2011 &  2027 & 0.12407333\\\\\n",
       "\t X60-X84 & LAI     & 2012 & 2012 &  1841 & 0.11158667\\\\\n",
       "\t X60-X84 & LAI     & 2013 & 2013 &  1738 & 0.10222000\\\\\n",
       "\t X60-X84 & LAI     & 2014 & 2014 &  1789 & 0.10371667\\\\\n",
       "\\end{tabular}\n"
      ],
      "text/markdown": [
       "\n",
       "A spec_tbl_df: 45 × 6\n",
       "\n",
       "| Codigo &lt;chr&gt; | Causa &lt;chr&gt; | AñosID &lt;dbl&gt; | Años &lt;dbl&gt; | Cantidad &lt;dbl&gt; | porHabitantes100 &lt;dbl&gt; |\n",
       "|---|---|---|---|---|---|\n",
       "| B20-B24 | SIDA    | 2010 | 2010 |   435 | 0.02414000 |\n",
       "| B20-B24 | SIDA    | 2011 | 2011 |   472 | 0.02830000 |\n",
       "| B20-B24 | SIDA    | 2012 | 2012 |   456 | 0.02661000 |\n",
       "| B20-B24 | SIDA    | 2013 | 2013 |   523 | 0.02719667 |\n",
       "| B20-B24 | SIDA    | 2014 | 2014 |   506 | 0.02952333 |\n",
       "| C00-D48 | Tumores | 2010 | 2010 | 24088 | 1.39447333 |\n",
       "| C00-D48 | Tumores | 2011 | 2011 | 24582 | 1.43264001 |\n",
       "| C00-D48 | Tumores | 2012 | 2012 | 25421 | 1.46909666 |\n",
       "| C00-D48 | Tumores | 2013 | 2013 | 25687 | 1.44042333 |\n",
       "| C00-D48 | Tumores | 2014 | 2014 | 26042 | 1.46881334 |\n",
       "| E00-E90 | EEDYM   | 2010 | 2010 |  4821 | 0.27405000 |\n",
       "| E00-E90 | EEDYM   | 2011 | 2011 |  4640 | 0.25414333 |\n",
       "| E00-E90 | EEDYM   | 2012 | 2012 |  4930 | 0.27460667 |\n",
       "| E00-E90 | EEDYM   | 2013 | 2013 |  4876 | 0.25378000 |\n",
       "| E00-E90 | EEDYM   | 2014 | 2014 |  5188 | 0.27171000 |\n",
       "| I00-I99 | ESC     | 2010 | 2010 | 27158 | 1.53352666 |\n",
       "| I00-I99 | ESC     | 2011 | 2011 | 25744 | 1.45189000 |\n",
       "| I00-I99 | ESC     | 2012 | 2012 | 27179 | 1.55333334 |\n",
       "| I00-I99 | ESC     | 2013 | 2013 | 27660 | 1.50591334 |\n",
       "| I00-I99 | ESC     | 2014 | 2014 | 28060 | 1.49855332 |\n",
       "| J00-J99 | ESR     | 2010 | 2010 |  9993 | 0.60348333 |\n",
       "| J00-J99 | ESR     | 2011 | 2011 |  9104 | 0.52756000 |\n",
       "| J00-J99 | ESR     | 2012 | 2012 | 10118 | 0.57727333 |\n",
       "| J00-J99 | ESR     | 2013 | 2013 | 10269 | 0.56147333 |\n",
       "| J00-J99 | ESR     | 2014 | 2014 | 10447 | 0.55020000 |\n",
       "| K00-K93 | ESD     | 2010 | 2010 |  7051 | 0.41266334 |\n",
       "| K00-K93 | ESD     | 2011 | 2011 |  6964 | 0.40333333 |\n",
       "| K00-K93 | ESD     | 2012 | 2012 |  7140 | 0.39853333 |\n",
       "| K00-K93 | ESD     | 2013 | 2013 |  7349 | 0.42387666 |\n",
       "| K00-K93 | ESD     | 2014 | 2014 |  7469 | 0.41435333 |\n",
       "| V01-V99 | ADT     | 2010 | 2010 |  2097 | 0.13655000 |\n",
       "| V01-V99 | ADT     | 2011 | 2011 |  2113 | 0.15626000 |\n",
       "| V01-V99 | ADT     | 2012 | 2012 |  2050 | 0.14467000 |\n",
       "| V01-V99 | ADT     | 2013 | 2013 |  2121 | 0.14153000 |\n",
       "| V01-V99 | ADT     | 2014 | 2014 |  1982 | 0.12311000 |\n",
       "| V01-Y98 | CEM     | 2010 | 2010 |  8385 | 0.53348000 |\n",
       "| V01-Y98 | CEM     | 2011 | 2011 |  8027 | 0.53223333 |\n",
       "| V01-Y98 | CEM     | 2012 | 2012 |  7561 | 0.49222667 |\n",
       "| V01-Y98 | CEM     | 2013 | 2013 |  7617 | 0.47934000 |\n",
       "| V01-Y98 | CEM     | 2014 | 2014 |  7730 | 0.46785000 |\n",
       "| X60-X84 | LAI     | 2010 | 2010 |  1986 | 0.12864333 |\n",
       "| X60-X84 | LAI     | 2011 | 2011 |  2027 | 0.12407333 |\n",
       "| X60-X84 | LAI     | 2012 | 2012 |  1841 | 0.11158667 |\n",
       "| X60-X84 | LAI     | 2013 | 2013 |  1738 | 0.10222000 |\n",
       "| X60-X84 | LAI     | 2014 | 2014 |  1789 | 0.10371667 |\n",
       "\n"
      ],
      "text/plain": [
       "   Codigo  Causa   AñosID Años Cantidad porHabitantes100\n",
       "1  B20-B24 SIDA    2010   2010   435    0.02414000      \n",
       "2  B20-B24 SIDA    2011   2011   472    0.02830000      \n",
       "3  B20-B24 SIDA    2012   2012   456    0.02661000      \n",
       "4  B20-B24 SIDA    2013   2013   523    0.02719667      \n",
       "5  B20-B24 SIDA    2014   2014   506    0.02952333      \n",
       "6  C00-D48 Tumores 2010   2010 24088    1.39447333      \n",
       "7  C00-D48 Tumores 2011   2011 24582    1.43264001      \n",
       "8  C00-D48 Tumores 2012   2012 25421    1.46909666      \n",
       "9  C00-D48 Tumores 2013   2013 25687    1.44042333      \n",
       "10 C00-D48 Tumores 2014   2014 26042    1.46881334      \n",
       "11 E00-E90 EEDYM   2010   2010  4821    0.27405000      \n",
       "12 E00-E90 EEDYM   2011   2011  4640    0.25414333      \n",
       "13 E00-E90 EEDYM   2012   2012  4930    0.27460667      \n",
       "14 E00-E90 EEDYM   2013   2013  4876    0.25378000      \n",
       "15 E00-E90 EEDYM   2014   2014  5188    0.27171000      \n",
       "16 I00-I99 ESC     2010   2010 27158    1.53352666      \n",
       "17 I00-I99 ESC     2011   2011 25744    1.45189000      \n",
       "18 I00-I99 ESC     2012   2012 27179    1.55333334      \n",
       "19 I00-I99 ESC     2013   2013 27660    1.50591334      \n",
       "20 I00-I99 ESC     2014   2014 28060    1.49855332      \n",
       "21 J00-J99 ESR     2010   2010  9993    0.60348333      \n",
       "22 J00-J99 ESR     2011   2011  9104    0.52756000      \n",
       "23 J00-J99 ESR     2012   2012 10118    0.57727333      \n",
       "24 J00-J99 ESR     2013   2013 10269    0.56147333      \n",
       "25 J00-J99 ESR     2014   2014 10447    0.55020000      \n",
       "26 K00-K93 ESD     2010   2010  7051    0.41266334      \n",
       "27 K00-K93 ESD     2011   2011  6964    0.40333333      \n",
       "28 K00-K93 ESD     2012   2012  7140    0.39853333      \n",
       "29 K00-K93 ESD     2013   2013  7349    0.42387666      \n",
       "30 K00-K93 ESD     2014   2014  7469    0.41435333      \n",
       "31 V01-V99 ADT     2010   2010  2097    0.13655000      \n",
       "32 V01-V99 ADT     2011   2011  2113    0.15626000      \n",
       "33 V01-V99 ADT     2012   2012  2050    0.14467000      \n",
       "34 V01-V99 ADT     2013   2013  2121    0.14153000      \n",
       "35 V01-V99 ADT     2014   2014  1982    0.12311000      \n",
       "36 V01-Y98 CEM     2010   2010  8385    0.53348000      \n",
       "37 V01-Y98 CEM     2011   2011  8027    0.53223333      \n",
       "38 V01-Y98 CEM     2012   2012  7561    0.49222667      \n",
       "39 V01-Y98 CEM     2013   2013  7617    0.47934000      \n",
       "40 V01-Y98 CEM     2014   2014  7730    0.46785000      \n",
       "41 X60-X84 LAI     2010   2010  1986    0.12864333      \n",
       "42 X60-X84 LAI     2011   2011  2027    0.12407333      \n",
       "43 X60-X84 LAI     2012   2012  1841    0.11158667      \n",
       "44 X60-X84 LAI     2013   2013  1738    0.10222000      \n",
       "45 X60-X84 LAI     2014   2014  1789    0.10371667      "
      ]
     },
     "metadata": {},
     "output_type": "display_data"
    }
   ],
   "source": [
    "mortalidad"
   ]
  },
  {
   "cell_type": "code",
   "execution_count": 45,
   "metadata": {},
   "outputs": [
    {
     "name": "stderr",
     "output_type": "stream",
     "text": [
      "Parsed with column specification:\n",
      "cols(\n",
      "  `ID CIE 10` = \u001b[31mcol_character()\u001b[39m,\n",
      "  `CIE 10` = \u001b[31mcol_character()\u001b[39m,\n",
      "  `ID Year` = \u001b[32mcol_double()\u001b[39m,\n",
      "  Year = \u001b[32mcol_double()\u001b[39m,\n",
      "  `Casualities Count SUM` = \u001b[32mcol_double()\u001b[39m,\n",
      "  `Casualities rate per 100 inhabitants` = \u001b[32mcol_double()\u001b[39m\n",
      ")\n",
      "\n",
      "Warning message in data(mortalidad):\n",
      "“data set ‘mortalidad’ not found”\n"
     ]
    }
   ],
   "source": [
    "mortalidad <- read_csv(\"/home/rtorrealba/learningR/data/mortalidad_cl.csv\")\n",
    "data(mortalidad)\n",
    "\n",
    "names (mortalidad) = c(\"Codigo\", \"Causa\", \"AñosID\", \"Años\", \"Cantidad\", \"porHabitantes100\")\n",
    "mortalidad1 = mortalidad[,c(\"Causa\", \"Años\", \"Cantidad\")]\n",
    "mortalidad2010 = mortalidad1[mortalidad1$Años==2010,]\n"
   ]
  },
  {
   "cell_type": "code",
   "execution_count": 46,
   "metadata": {},
   "outputs": [
    {
     "data": {
      "text/html": [
       "<table>\n",
       "<caption>A tibble: 9 × 3</caption>\n",
       "<thead>\n",
       "\t<tr><th scope=col>Causa</th><th scope=col>Años</th><th scope=col>Cantidad</th></tr>\n",
       "\t<tr><th scope=col>&lt;chr&gt;</th><th scope=col>&lt;dbl&gt;</th><th scope=col>&lt;dbl&gt;</th></tr>\n",
       "</thead>\n",
       "<tbody>\n",
       "\t<tr><td>SIDA   </td><td>2010</td><td>  435</td></tr>\n",
       "\t<tr><td>Tumores</td><td>2010</td><td>24088</td></tr>\n",
       "\t<tr><td>EEDYM  </td><td>2010</td><td> 4821</td></tr>\n",
       "\t<tr><td>ESC    </td><td>2010</td><td>27158</td></tr>\n",
       "\t<tr><td>ESR    </td><td>2010</td><td> 9993</td></tr>\n",
       "\t<tr><td>ESD    </td><td>2010</td><td> 7051</td></tr>\n",
       "\t<tr><td>ADT    </td><td>2010</td><td> 2097</td></tr>\n",
       "\t<tr><td>CEM    </td><td>2010</td><td> 8385</td></tr>\n",
       "\t<tr><td>LAI    </td><td>2010</td><td> 1986</td></tr>\n",
       "</tbody>\n",
       "</table>\n"
      ],
      "text/latex": [
       "A tibble: 9 × 3\n",
       "\\begin{tabular}{lll}\n",
       " Causa & Años & Cantidad\\\\\n",
       " <chr> & <dbl> & <dbl>\\\\\n",
       "\\hline\n",
       "\t SIDA    & 2010 &   435\\\\\n",
       "\t Tumores & 2010 & 24088\\\\\n",
       "\t EEDYM   & 2010 &  4821\\\\\n",
       "\t ESC     & 2010 & 27158\\\\\n",
       "\t ESR     & 2010 &  9993\\\\\n",
       "\t ESD     & 2010 &  7051\\\\\n",
       "\t ADT     & 2010 &  2097\\\\\n",
       "\t CEM     & 2010 &  8385\\\\\n",
       "\t LAI     & 2010 &  1986\\\\\n",
       "\\end{tabular}\n"
      ],
      "text/markdown": [
       "\n",
       "A tibble: 9 × 3\n",
       "\n",
       "| Causa &lt;chr&gt; | Años &lt;dbl&gt; | Cantidad &lt;dbl&gt; |\n",
       "|---|---|---|\n",
       "| SIDA    | 2010 |   435 |\n",
       "| Tumores | 2010 | 24088 |\n",
       "| EEDYM   | 2010 |  4821 |\n",
       "| ESC     | 2010 | 27158 |\n",
       "| ESR     | 2010 |  9993 |\n",
       "| ESD     | 2010 |  7051 |\n",
       "| ADT     | 2010 |  2097 |\n",
       "| CEM     | 2010 |  8385 |\n",
       "| LAI     | 2010 |  1986 |\n",
       "\n"
      ],
      "text/plain": [
       "  Causa   Años Cantidad\n",
       "1 SIDA    2010   435   \n",
       "2 Tumores 2010 24088   \n",
       "3 EEDYM   2010  4821   \n",
       "4 ESC     2010 27158   \n",
       "5 ESR     2010  9993   \n",
       "6 ESD     2010  7051   \n",
       "7 ADT     2010  2097   \n",
       "8 CEM     2010  8385   \n",
       "9 LAI     2010  1986   "
      ]
     },
     "metadata": {},
     "output_type": "display_data"
    }
   ],
   "source": [
    "mortalidad2010"
   ]
  },
  {
   "cell_type": "code",
   "execution_count": 47,
   "metadata": {},
   "outputs": [
    {
     "data": {
      "image/png": "[encoded data removed]",
      "text/plain": [
       "plot without title"
      ]
     },
     "metadata": {
      "image/png": {
       "height": 420,
       "width": 420
      },
      "text/plain": {
       "height": 420,
       "width": 420
      }
     },
     "output_type": "display_data"
    }
   ],
   "source": [
    "mortalidad2010 %>%\n",
    "  ggplot(aes(Cantidad, Causa, label = Cantidad, color = Causa)) +\n",
    "  geom_label()"
   ]
  },
  {
   "cell_type": "code",
   "execution_count": 43,
   "metadata": {},
   "outputs": [],
   "source": [
    "mortalidad2011 = mortalidad1[mortalidad1$Años==2011,]"
   ]
  },
  {
   "cell_type": "code",
   "execution_count": 48,
   "metadata": {},
   "outputs": [
    {
     "data": {
      "text/html": [
       "<table>\n",
       "<caption>A tibble: 9 × 3</caption>\n",
       "<thead>\n",
       "\t<tr><th scope=col>Causa</th><th scope=col>Años</th><th scope=col>Cantidad</th></tr>\n",
       "\t<tr><th scope=col>&lt;chr&gt;</th><th scope=col>&lt;dbl&gt;</th><th scope=col>&lt;dbl&gt;</th></tr>\n",
       "</thead>\n",
       "<tbody>\n",
       "\t<tr><td>SIDA   </td><td>2011</td><td>  472</td></tr>\n",
       "\t<tr><td>Tumores</td><td>2011</td><td>24582</td></tr>\n",
       "\t<tr><td>EEDYM  </td><td>2011</td><td> 4640</td></tr>\n",
       "\t<tr><td>ESC    </td><td>2011</td><td>25744</td></tr>\n",
       "\t<tr><td>ESR    </td><td>2011</td><td> 9104</td></tr>\n",
       "\t<tr><td>ESD    </td><td>2011</td><td> 6964</td></tr>\n",
       "\t<tr><td>ADT    </td><td>2011</td><td> 2113</td></tr>\n",
       "\t<tr><td>CEM    </td><td>2011</td><td> 8027</td></tr>\n",
       "\t<tr><td>LAI    </td><td>2011</td><td> 2027</td></tr>\n",
       "</tbody>\n",
       "</table>\n"
      ],
      "text/latex": [
       "A tibble: 9 × 3\n",
       "\\begin{tabular}{lll}\n",
       " Causa & Años & Cantidad\\\\\n",
       " <chr> & <dbl> & <dbl>\\\\\n",
       "\\hline\n",
       "\t SIDA    & 2011 &   472\\\\\n",
       "\t Tumores & 2011 & 24582\\\\\n",
       "\t EEDYM   & 2011 &  4640\\\\\n",
       "\t ESC     & 2011 & 25744\\\\\n",
       "\t ESR     & 2011 &  9104\\\\\n",
       "\t ESD     & 2011 &  6964\\\\\n",
       "\t ADT     & 2011 &  2113\\\\\n",
       "\t CEM     & 2011 &  8027\\\\\n",
       "\t LAI     & 2011 &  2027\\\\\n",
       "\\end{tabular}\n"
      ],
      "text/markdown": [
       "\n",
       "A tibble: 9 × 3\n",
       "\n",
       "| Causa &lt;chr&gt; | Años &lt;dbl&gt; | Cantidad &lt;dbl&gt; |\n",
       "|---|---|---|\n",
       "| SIDA    | 2011 |   472 |\n",
       "| Tumores | 2011 | 24582 |\n",
       "| EEDYM   | 2011 |  4640 |\n",
       "| ESC     | 2011 | 25744 |\n",
       "| ESR     | 2011 |  9104 |\n",
       "| ESD     | 2011 |  6964 |\n",
       "| ADT     | 2011 |  2113 |\n",
       "| CEM     | 2011 |  8027 |\n",
       "| LAI     | 2011 |  2027 |\n",
       "\n"
      ],
      "text/plain": [
       "  Causa   Años Cantidad\n",
       "1 SIDA    2011   472   \n",
       "2 Tumores 2011 24582   \n",
       "3 EEDYM   2011  4640   \n",
       "4 ESC     2011 25744   \n",
       "5 ESR     2011  9104   \n",
       "6 ESD     2011  6964   \n",
       "7 ADT     2011  2113   \n",
       "8 CEM     2011  8027   \n",
       "9 LAI     2011  2027   "
      ]
     },
     "metadata": {},
     "output_type": "display_data"
    }
   ],
   "source": [
    "mortalidad2011"
   ]
  }
 ],
 "metadata": {
  "kernelspec": {
   "display_name": "R",
   "language": "R",
   "name": "ir"
  },
  "language_info": {
   "codemirror_mode": "r",
   "file_extension": ".r",
   "mimetype": "text/x-r-source",
   "name": "R",
   "pygments_lexer": "r",
   "version": "3.4.4"
  }
 },
 "nbformat": 4,
 "nbformat_minor": 2
}
